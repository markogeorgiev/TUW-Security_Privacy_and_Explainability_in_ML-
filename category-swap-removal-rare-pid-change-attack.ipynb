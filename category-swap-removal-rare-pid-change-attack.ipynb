{
 "cells": [
  {
   "cell_type": "code",
   "id": "initial_id",
   "metadata": {
    "collapsed": true,
    "ExecuteTime": {
     "end_time": "2025-04-09T00:27:47.014243Z",
     "start_time": "2025-04-09T00:27:05.935777Z"
    }
   },
   "source": [
    "# --- CONFIGURATION ---\n",
    "input_file = 'Financial_Records.csv'\n",
    "output_file = 'Cleaned_Financial_Records_2.csv'\n",
    "k_neighbors = 5\n",
    "categorical_cols = [\n",
    "    'sex', 'marital_status', 'job', 'foreign',\n",
    "    'credit_hist', 'purpose', 'installment_rate', 'debtors',\n",
    "    'checking_account', 'savings', 'housing', 'property',\n",
    "    'online_banking', 'tel', 'employment_since'\n",
    "]\n",
    "numerical_cols = [\n",
    "    'age', 'credit_amount', 'duration',\n",
    "    'existing_credits', 'liable_people', 'residence_since',\n",
    "    'monthly_rent_or_mortgage'\n",
    "]\n",
    "pid_col = 'PID'  # Rename if it's different in your dataset\n",
    "rare_threshold = 0.01  # 1% threshold for rare values\n",
    "change_pids = True\n",
    "random_state = 42\n",
    "# ----------------------\n",
    "\n",
    "import pandas as pd\n",
    "import numpy as np\n",
    "from sklearn.preprocessing import StandardScaler\n",
    "from sklearn.neighbors import NearestNeighbors\n",
    "\n",
    "np.random.seed(random_state)\n",
    "df = pd.read_csv(input_file)\n",
    "\n",
    "# Drop rows with missing values to simplify\n",
    "df.dropna(subset=numerical_cols + categorical_cols, inplace=True)\n",
    "\n",
    "# Step 1: Normalize numerical columns\n",
    "scaler = StandardScaler()\n",
    "numerical_data = scaler.fit_transform(df[numerical_cols])\n",
    "\n",
    "# Step 2: Fit KNN model\n",
    "knn = NearestNeighbors(n_neighbors=k_neighbors + 1)\n",
    "knn.fit(numerical_data)\n",
    "distances, indices = knn.kneighbors(numerical_data)\n",
    "\n",
    "# Step 3: Category Swapping with neighbors\n",
    "for idx, row in df.iterrows():\n",
    "    neighbor_indices = indices[idx][1:]  # Exclude self\n",
    "    for col in categorical_cols:\n",
    "        if np.random.rand() < 0.5:  # 50% chance to swap\n",
    "            neighbor_val = df.loc[np.random.choice(neighbor_indices), col]\n",
    "            df.at[idx, col] = neighbor_val\n",
    "\n",
    "# Step 4: Replace rare values using frequent values — only for safe fields\n",
    "safe_for_replacement = [col for col in categorical_cols if col not in ['checking_account', 'savings', 'employment_since']]\n",
    "\n",
    "for col in safe_for_replacement:\n",
    "    value_counts = df[col].value_counts(normalize=True)\n",
    "    rare_values = value_counts[value_counts < rare_threshold].index\n",
    "    common_values = value_counts[value_counts >= rare_threshold].index.tolist()\n",
    "\n",
    "    def replace_if_rare(val):\n",
    "        if val in rare_values and common_values:\n",
    "            return np.random.choice(common_values)\n",
    "        return val\n",
    "\n",
    "    df[col] = df[col].apply(replace_if_rare)\n",
    "\n",
    "# Step 5: Change PIDs (optional)\n",
    "if change_pids and pid_col in df.columns:\n",
    "    df[pid_col] = ['PID' + str(i).zfill(6) for i in range(len(df))]\n",
    "\n",
    "# Save output\n",
    "df.to_csv(output_file, index=False)\n",
    "print(f\"Fingerprint-breaking dataset written to: {output_file}\")"
   ],
   "outputs": [
    {
     "name": "stdout",
     "output_type": "stream",
     "text": [
      "Fingerprint-breaking dataset written to: Cleaned_Financial_Records_2.csv\n"
     ]
    }
   ],
   "execution_count": 9
  }
 ],
 "metadata": {
  "kernelspec": {
   "display_name": "Python 3",
   "language": "python",
   "name": "python3"
  },
  "language_info": {
   "codemirror_mode": {
    "name": "ipython",
    "version": 2
   },
   "file_extension": ".py",
   "mimetype": "text/x-python",
   "name": "python",
   "nbconvert_exporter": "python",
   "pygments_lexer": "ipython2",
   "version": "2.7.6"
  }
 },
 "nbformat": 4,
 "nbformat_minor": 5
}
