{
 "cells": [
  {
   "cell_type": "code",
   "id": "initial_id",
   "metadata": {
    "collapsed": true,
    "ExecuteTime": {
     "end_time": "2025-04-08T22:45:22.561908Z",
     "start_time": "2025-04-08T22:45:21.416473Z"
    }
   },
   "source": [
    "import pandas as pd\n",
    "import numpy as np\n",
    "import random\n",
    "\n",
    "# Load original fingerprinted dataset\n",
    "df = pd.read_csv(\"Financial_Records.csv\")\n",
    "\n",
    "# Set random seed for reproducibility\n",
    "np.random.seed(42)\n",
    "random.seed(42)\n",
    "\n",
    "# Define columns by type (from your description)\n",
    "numeric_cols = ['age', 'credit_amount', 'duration', 'installment_rate',\n",
    "                'existing_credits', 'liable_people', 'residence_since', 'monthly_rent_or_mortgage']\n",
    "\n",
    "categorical_cols = ['sex', 'marital_status', 'job', 'employment_since', 'foreign', 'credit_history', \n",
    "                    'purpose', 'debtors', 'checking_account', 'savings', 'housing', 'property',\n",
    "                    'online_banking', 'tel']\n",
    "\n",
    "target_col = 'default'\n",
    "\n",
    "# 1. Add small Gaussian noise to numeric columns\n",
    "for col in numeric_cols:\n",
    "    if col in df.columns:\n",
    "        std_dev = df[col].std()\n",
    "        noise = np.random.normal(0, 0.01 * std_dev, size=df.shape[0])\n",
    "        df[col] = df[col] + noise\n",
    "        # Clip to avoid unrealistic values (e.g., negative age)\n",
    "        if (df[col] >= 0).all():\n",
    "            df[col] = df[col].clip(lower=0)\n",
    "\n",
    "# 2. Swap a small percentage of categorical values randomly (label-preserving)\n",
    "swap_fraction = 0.05  # 5% of values per column\n",
    "for col in categorical_cols:\n",
    "    if col in df.columns:\n",
    "        n = len(df)\n",
    "        indices = df.sample(frac=swap_fraction, random_state=42).index\n",
    "        values = df.loc[indices, col].sample(frac=1.0, random_state=99).values  # shuffled values\n",
    "        df.loc[indices, col] = values\n",
    "\n",
    "# Optional: Shuffle rows (preserves structure but makes row-to-row matching harder)\n",
    "df = df.sample(frac=1.0, random_state=999).reset_index(drop=True)\n",
    "\n",
    "# 3. Save the attacked version\n",
    "df.to_csv(\"Financial_Records_attacked-random-noise.csv\", index=False)\n",
    "print(\"Saved attacked dataset as Financial_Records_attacked-random-noise.csv\")"
   ],
   "outputs": [
    {
     "name": "stdout",
     "output_type": "stream",
     "text": [
      "Saved attacked dataset as Financial_Records_attacked.csv\n"
     ]
    }
   ],
   "execution_count": 14
  },
  {
   "metadata": {},
   "cell_type": "code",
   "outputs": [],
   "execution_count": null,
   "source": "",
   "id": "ead3a0e46333793a"
  }
 ],
 "metadata": {
  "kernelspec": {
   "display_name": "Python 3",
   "language": "python",
   "name": "python3"
  },
  "language_info": {
   "codemirror_mode": {
    "name": "ipython",
    "version": 2
   },
   "file_extension": ".py",
   "mimetype": "text/x-python",
   "name": "python",
   "nbconvert_exporter": "python",
   "pygments_lexer": "ipython2",
   "version": "2.7.6"
  }
 },
 "nbformat": 4,
 "nbformat_minor": 5
}
