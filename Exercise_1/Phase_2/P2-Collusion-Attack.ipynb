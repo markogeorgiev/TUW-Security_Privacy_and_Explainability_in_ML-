{
 "cells": [
  {
   "metadata": {
    "ExecuteTime": {
     "end_time": "2025-04-22T15:37:02.099827Z",
     "start_time": "2025-04-22T15:37:01.113895Z"
    }
   },
   "cell_type": "code",
   "source": [
    "import pandas as pd\n",
    "import numpy as np\n",
    "from collections import Counter\n",
    "\n",
    "# 1. load all datasets\n",
    "filenames = [\n",
    "    \"datasets-p2/Financial_Records.csv\",\n",
    "    \"datasets-p2/Financial_Records_Bob.csv\",\n",
    "    \"datasets-p2/Financial_Records_Bob_Nemanja_Saveski.csv\",\n",
    "    # \"datasets-p2/Financial_Records_Bob_Sabina_Khazari.csv\", Sabina's Bob dataset is the same as mine. So we have to remove it to avoid bias. \n",
    "    \"datasets-p2/Financial_Records_Bob_Thomas_Senstyler.csv\"\n",
    "]\n",
    "\n",
    "datasets = [pd.read_csv(fname) for fname in filenames]\n",
    "\n",
    "for i, df in enumerate(datasets):\n",
    "    print(f\"Dataset {i+1} shape: {df.shape}\")\n",
    "    \n",
    "columns_match = all(datasets[0].columns.equals(df.columns) for df in datasets)\n",
    "assert columns_match, \"Column mismatch detected across datasets!\""
   ],
   "id": "d91a1513a7c4ced1",
   "outputs": [
    {
     "name": "stdout",
     "output_type": "stream",
     "text": [
      "Dataset 1 shape: (70000, 25)\n",
      "Dataset 2 shape: (70000, 25)\n",
      "Dataset 3 shape: (70000, 25)\n",
      "Dataset 4 shape: (70000, 25)\n"
     ]
    }
   ],
   "execution_count": 1
  },
  {
   "cell_type": "code",
   "id": "initial_id",
   "metadata": {
    "collapsed": true,
    "ExecuteTime": {
     "end_time": "2025-04-23T01:27:30.549824Z",
     "start_time": "2025-04-23T01:27:30.524020Z"
    }
   },
   "source": [
    "cleaned_df = datasets[0].copy()\n",
    "diff_map = pd.DataFrame(0, index=cleaned_df.index, columns=cleaned_df.columns)\n",
    "modification_log = []\n",
    "\n",
    "for row in range(cleaned_df.shape[0]):\n",
    "    for col in cleaned_df.columns:\n",
    "        values = [df.at[row, col] for df in datasets]\n",
    "\n",
    "        try:\n",
    "            float_values = [float(v) for v in values]\n",
    "            is_numeric = True\n",
    "        except:\n",
    "            is_numeric = False\n",
    "\n",
    "        if is_numeric:\n",
    "            std_dev = np.std(float_values)\n",
    "            if std_dev < 1e-4:\n",
    "                cleaned_value = round(np.mean(float_values), 4)\n",
    "            else:\n",
    "                rounded = [round(v, 4) for v in float_values]\n",
    "                most_common = Counter(rounded).most_common(1)[0][0]\n",
    "                cleaned_value = most_common\n",
    "        else:\n",
    "            most_common = Counter(values).most_common(1)[0][0]\n",
    "            cleaned_value = most_common\n",
    "\n",
    "        if any(val != cleaned_value for val in values):\n",
    "            # Log the change\n",
    "            modification_log.append({\n",
    "                \"row\": row,\n",
    "                \"column\": col,\n",
    "                \"original_values\": values,\n",
    "                \"cleaned_value\": cleaned_value\n",
    "            })\n",
    "            diff_map.at[row, col] = 1  # mark this cell as modified\n",
    "\n",
    "        cleaned_df.at[row, col] = cleaned_value\n",
    "\n",
    "cleaned_df.to_csv(\"output-datasets/Financial_Records_No_Fingerprint_v1.csv\", index=False)\n",
    "diff_map.to_csv(\"output-datasets/diff_map.csv\", index=False)\n",
    "log_df = pd.DataFrame(modification_log)\n",
    "log_df.to_csv(\"output-datasets/modification_log.csv\", index=False)\n",
    "\n",
    "print(f\"Cleaned dataset saved as 'output-datasets/Financial_Records_Cleaned.csv'\")\n",
    "print(f\"Difference map saved as 'output-datasets/diff_map.csv'\")\n",
    "print(f\"Log of all modified cells saved as 'output-datasets/modification_log.csv'\")"
   ],
   "outputs": [
    {
     "ename": "NameError",
     "evalue": "name 'datasets' is not defined",
     "output_type": "error",
     "traceback": [
      "\u001B[31m---------------------------------------------------------------------------\u001B[39m",
      "\u001B[31mNameError\u001B[39m                                 Traceback (most recent call last)",
      "\u001B[36mCell\u001B[39m\u001B[36m \u001B[39m\u001B[32mIn[5]\u001B[39m\u001B[32m, line 1\u001B[39m\n\u001B[32m----> \u001B[39m\u001B[32m1\u001B[39m cleaned_df = \u001B[43mdatasets\u001B[49m[\u001B[32m0\u001B[39m].copy()\n\u001B[32m      2\u001B[39m diff_map = pd.DataFrame(\u001B[32m0\u001B[39m, index=cleaned_df.index, columns=cleaned_df.columns)\n\u001B[32m      3\u001B[39m modification_log = []\n",
      "\u001B[31mNameError\u001B[39m: name 'datasets' is not defined"
     ]
    }
   ],
   "execution_count": 5
  },
  {
   "metadata": {
    "ExecuteTime": {
     "end_time": "2025-04-23T01:42:18.662878Z",
     "start_time": "2025-04-23T01:40:39.961135Z"
    }
   },
   "cell_type": "code",
   "source": [
    "import os\n",
    "import re\n",
    "import pandas as pd\n",
    "import numpy as np\n",
    "from collections import Counter\n",
    "from dataset_uniqueness_utils import *\n",
    "\n",
    "DATA_DIR = \"datasets-p2\"\n",
    "OUT_DIR = \"output-datasets\"\n",
    "os.makedirs(OUT_DIR, exist_ok=True)\n",
    "\n",
    "unique_datasets, unique_names, num_unique = get_unique_datasets(DATA_DIR) \n",
    "\n",
    "print(f\"Using {num_unique} unique datasets:\")\n",
    "for name in unique_names:\n",
    "    print(f\" - {name}\")\n",
    "\n",
    "base_df = unique_datasets[0].copy()\n",
    "modification_log = []\n",
    "\n",
    "for row in range(base_df.shape[0]):\n",
    "    for col in base_df.columns:\n",
    "        values = [df.at[row, col] for df in unique_datasets]\n",
    "        try:\n",
    "            float_values = [float(v) for v in values]\n",
    "            is_numeric = True\n",
    "        except:\n",
    "            is_numeric = False\n",
    "\n",
    "        if is_numeric:\n",
    "            std_dev = np.std(float_values)\n",
    "            if std_dev < 1e-4:\n",
    "                cleaned_value = round(np.mean(float_values), 4)\n",
    "            else:\n",
    "                rounded = [round(v, 4) for v in float_values]\n",
    "                most_common = Counter(rounded).most_common(1)[0][0]\n",
    "                cleaned_value = most_common\n",
    "        else:\n",
    "            most_common = Counter(values).most_common(1)[0][0]\n",
    "            cleaned_value = most_common\n",
    "\n",
    "        if any(val != cleaned_value for val in values):\n",
    "            modification_log.append({\n",
    "                \"row\": row,\n",
    "                \"column\": col,\n",
    "                \"original_values\": values,\n",
    "                \"cleaned_value\": cleaned_value\n",
    "            })\n",
    "\n",
    "        base_df.at[row, col] = cleaned_value\n",
    "        \n",
    "save_cleaned_output_versioned(base_df, modification_log, num_unique)"
   ],
   "id": "f8e07a104bf99dd2",
   "outputs": [
    {
     "name": "stdout",
     "output_type": "stream",
     "text": [
      "Using 4 unique datasets:\n",
      " - Financial_Records.csv\n",
      " - Financial_Records_Bob.csv\n",
      " - Financial_Records_Bob_Nemanja_Saveski.csv\n",
      " - Financial_Records_Bob_Thomas_Senstyler.csv\n",
      "Cleaned dataset saved as 'Financial_Records_No_Fingerprint_4_v4.csv' in 'output-datasets\\4_v4'\n",
      "Modification log saved as 'modification_log_4_v4.csv' in 'output-datasets\\4_v4'\n"
     ]
    },
    {
     "data": {
      "text/plain": [
       "'output-datasets\\\\4_v4'"
      ]
     },
     "execution_count": 1,
     "metadata": {},
     "output_type": "execute_result"
    }
   ],
   "execution_count": 1
  },
  {
   "metadata": {},
   "cell_type": "code",
   "outputs": [],
   "execution_count": null,
   "source": "",
   "id": "38316076467459c9"
  }
 ],
 "metadata": {
  "kernelspec": {
   "display_name": "Python 3",
   "language": "python",
   "name": "python3"
  },
  "language_info": {
   "codemirror_mode": {
    "name": "ipython",
    "version": 2
   },
   "file_extension": ".py",
   "mimetype": "text/x-python",
   "name": "python",
   "nbconvert_exporter": "python",
   "pygments_lexer": "ipython2",
   "version": "2.7.6"
  }
 },
 "nbformat": 4,
 "nbformat_minor": 5
}
