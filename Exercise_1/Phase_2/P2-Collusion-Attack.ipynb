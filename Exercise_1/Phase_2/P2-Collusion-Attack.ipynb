{
 "cells": [
  {
   "metadata": {
    "ExecuteTime": {
     "end_time": "2025-04-22T15:37:02.099827Z",
     "start_time": "2025-04-22T15:37:01.113895Z"
    }
   },
   "cell_type": "code",
   "source": [
    "import pandas as pd\n",
    "import numpy as np\n",
    "from collections import Counter\n",
    "\n",
    "# 1. load all datasets\n",
    "filenames = [\n",
    "    \"datasets-p2/Financial_Records.csv\",\n",
    "    \"datasets-p2/Financial_Records_Bob.csv\",\n",
    "    \"datasets-p2/Financial_Records_Bob_Nemanja_Saveski.csv\",\n",
    "    # \"datasets-p2/Financial_Records_Bob_Sabina_Khazari.csv\", Sabina's Bob dataset is the same as mine. So we have to remove it to avoid bias. \n",
    "    \"datasets-p2/Financial_Records_Bob_Thomas_Senstyler.csv\"\n",
    "]\n",
    "\n",
    "datasets = [pd.read_csv(fname) for fname in filenames]\n",
    "\n",
    "for i, df in enumerate(datasets):\n",
    "    print(f\"Dataset {i+1} shape: {df.shape}\")\n",
    "    \n",
    "columns_match = all(datasets[0].columns.equals(df.columns) for df in datasets)\n",
    "assert columns_match, \"Column mismatch detected across datasets!\""
   ],
   "id": "d91a1513a7c4ced1",
   "outputs": [
    {
     "name": "stdout",
     "output_type": "stream",
     "text": [
      "Dataset 1 shape: (70000, 25)\n",
      "Dataset 2 shape: (70000, 25)\n",
      "Dataset 3 shape: (70000, 25)\n",
      "Dataset 4 shape: (70000, 25)\n"
     ]
    }
   ],
   "execution_count": 1
  },
  {
   "cell_type": "code",
   "id": "initial_id",
   "metadata": {
    "collapsed": true,
    "ExecuteTime": {
     "end_time": "2025-04-22T15:38:34.314320Z",
     "start_time": "2025-04-22T15:37:03.964635Z"
    }
   },
   "source": [
    "cleaned_df = datasets[0].copy()\n",
    "diff_map = pd.DataFrame(0, index=cleaned_df.index, columns=cleaned_df.columns)\n",
    "modification_log = []\n",
    "\n",
    "for row in range(cleaned_df.shape[0]):\n",
    "    for col in cleaned_df.columns:\n",
    "        values = [df.at[row, col] for df in datasets]\n",
    "\n",
    "        try:\n",
    "            float_values = [float(v) for v in values]\n",
    "            is_numeric = True\n",
    "        except:\n",
    "            is_numeric = False\n",
    "\n",
    "        if is_numeric:\n",
    "            std_dev = np.std(float_values)\n",
    "            if std_dev < 1e-4:\n",
    "                cleaned_value = round(np.mean(float_values), 4)\n",
    "            else:\n",
    "                rounded = [round(v, 4) for v in float_values]\n",
    "                most_common = Counter(rounded).most_common(1)[0][0]\n",
    "                cleaned_value = most_common\n",
    "        else:\n",
    "            most_common = Counter(values).most_common(1)[0][0]\n",
    "            cleaned_value = most_common\n",
    "\n",
    "        if any(val != cleaned_value for val in values):\n",
    "            # Log the change\n",
    "            modification_log.append({\n",
    "                \"row\": row,\n",
    "                \"column\": col,\n",
    "                \"original_values\": values,\n",
    "                \"cleaned_value\": cleaned_value\n",
    "            })\n",
    "            diff_map.at[row, col] = 1  # mark this cell as modified\n",
    "\n",
    "        cleaned_df.at[row, col] = cleaned_value\n",
    "\n",
    "cleaned_df.to_csv(\"output-datasets/Financial_Records_No_Fingerprint_v1.csv\", index=False)\n",
    "diff_map.to_csv(\"output-datasets/diff_map.csv\", index=False)\n",
    "log_df = pd.DataFrame(modification_log)\n",
    "log_df.to_csv(\"output-datasets/modification_log.csv\", index=False)\n",
    "\n",
    "print(f\"Cleaned dataset saved as 'output-datasets/Financial_Records_Cleaned.csv'\")\n",
    "print(f\"Difference map saved as 'output-datasets/diff_map.csv'\")\n",
    "print(f\"Log of all modified cells saved as 'output-datasets/modification_log.csv'\")"
   ],
   "outputs": [
    {
     "name": "stdout",
     "output_type": "stream",
     "text": [
      "Cleaned dataset saved as 'output-datasets/Financial_Records_Cleaned.csv'\n",
      "Difference map saved as 'output-datasets/diff_map.csv'\n",
      "Log of all modified cells saved as 'output-datasets/modification_log.csv'\n"
     ]
    }
   ],
   "execution_count": 2
  },
  {
   "metadata": {},
   "cell_type": "code",
   "outputs": [],
   "execution_count": null,
   "source": "",
   "id": "f8e07a104bf99dd2"
  }
 ],
 "metadata": {
  "kernelspec": {
   "display_name": "Python 3",
   "language": "python",
   "name": "python3"
  },
  "language_info": {
   "codemirror_mode": {
    "name": "ipython",
    "version": 2
   },
   "file_extension": ".py",
   "mimetype": "text/x-python",
   "name": "python",
   "nbconvert_exporter": "python",
   "pygments_lexer": "ipython2",
   "version": "2.7.6"
  }
 },
 "nbformat": 4,
 "nbformat_minor": 5
}
