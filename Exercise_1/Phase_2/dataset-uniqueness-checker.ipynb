{
 "cells": [
  {
   "metadata": {
    "collapsed": true,
    "ExecuteTime": {
     "end_time": "2025-04-23T11:25:19.154013Z",
     "start_time": "2025-04-23T11:25:16.777894Z"
    }
   },
   "cell_type": "code",
   "source": [
    "import pandas as pd\n",
    "import itertools\n",
    "\n",
    "filenames = [\n",
    "    \"datasets-p2/Financial_Records.csv\",\n",
    "    \"datasets-p2/Financial_Records_Bob.csv\",\n",
    "    \"datasets-p2/Financial_Records_Bob_Nemanja_Saveski.csv\",\n",
    "    \"datasets-p2/Financial_Records_Bob_Sabina_Khazari.csv\",\n",
    "    \"datasets-p2/Financial_Records_Bob_Thomas_Senstyler.csv\"\n",
    "]\n",
    "\n",
    "datasets = [pd.read_csv(fname) for fname in filenames]\n",
    "\n",
    "for (i, df1), (j, df2) in itertools.combinations(enumerate(datasets), 2):\n",
    "    fname1 = filenames[i]\n",
    "    fname2 = filenames[j]\n",
    "    \n",
    "    if df1.shape != df2.shape:\n",
    "        print(f\"{fname1} and {fname2} are different (shape mismatch: {df1.shape} vs {df2.shape})\")\n",
    "        continue\n",
    "\n",
    "    if df1.equals(df2):\n",
    "        print(f\"{fname1} and {fname2} are identical\")\n",
    "    else:\n",
    "        print(f\"{fname1} and {fname2} are different\")"
   ],
   "id": "initial_id",
   "outputs": [
    {
     "name": "stdout",
     "output_type": "stream",
     "text": [
      "datasets-p2/Financial_Records.csv and datasets-p2/Financial_Records_Bob.csv are different\n",
      "datasets-p2/Financial_Records.csv and datasets-p2/Financial_Records_Bob_Nemanja_Saveski.csv are different\n",
      "datasets-p2/Financial_Records.csv and datasets-p2/Financial_Records_Bob_Sabina_Khazari.csv are different\n",
      "datasets-p2/Financial_Records.csv and datasets-p2/Financial_Records_Bob_Thomas_Senstyler.csv are different\n",
      "datasets-p2/Financial_Records_Bob.csv and datasets-p2/Financial_Records_Bob_Nemanja_Saveski.csv are different\n",
      "datasets-p2/Financial_Records_Bob.csv and datasets-p2/Financial_Records_Bob_Sabina_Khazari.csv are identical\n",
      "datasets-p2/Financial_Records_Bob.csv and datasets-p2/Financial_Records_Bob_Thomas_Senstyler.csv are different\n",
      "datasets-p2/Financial_Records_Bob_Nemanja_Saveski.csv and datasets-p2/Financial_Records_Bob_Sabina_Khazari.csv are different\n",
      "datasets-p2/Financial_Records_Bob_Nemanja_Saveski.csv and datasets-p2/Financial_Records_Bob_Thomas_Senstyler.csv are different\n",
      "datasets-p2/Financial_Records_Bob_Sabina_Khazari.csv and datasets-p2/Financial_Records_Bob_Thomas_Senstyler.csv are different\n"
     ]
    }
   ],
   "execution_count": 1
  },
  {
   "metadata": {},
   "cell_type": "code",
   "outputs": [],
   "execution_count": null,
   "source": "",
   "id": "f64a388040f0082d"
  }
 ],
 "metadata": {
  "kernelspec": {
   "display_name": "Python 3",
   "language": "python",
   "name": "python3"
  },
  "language_info": {
   "codemirror_mode": {
    "name": "ipython",
    "version": 2
   },
   "file_extension": ".py",
   "mimetype": "text/x-python",
   "name": "python",
   "nbconvert_exporter": "python",
   "pygments_lexer": "ipython2",
   "version": "2.7.6"
  }
 },
 "nbformat": 4,
 "nbformat_minor": 5
}
