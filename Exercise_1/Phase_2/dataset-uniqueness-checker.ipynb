{
 "cells": [
  {
   "metadata": {
    "collapsed": true,
    "ExecuteTime": {
     "end_time": "2025-05-03T18:32:10.089889Z",
     "start_time": "2025-05-03T18:32:09.814750Z"
    }
   },
   "cell_type": "code",
   "source": [
    "import os\n",
    "import hashlib\n",
    "import itertools\n",
    "\n",
    "DATA_DIR = \"datasets-p2\"\n",
    "\n",
    "def compute_md5(file_path):\n",
    "    hasher = hashlib.md5()\n",
    "    with open(file_path, 'rb') as f:\n",
    "        for chunk in iter(lambda: f.read(4096), b\"\"):\n",
    "            hasher.update(chunk)\n",
    "    return hasher.hexdigest()\n",
    "\n",
    "# Get all matching files\n",
    "filenames = [f for f in os.listdir(DATA_DIR) if f.startswith(\"Financial_Records\") and f.endswith(\".csv\")]\n",
    "file_paths = [os.path.join(DATA_DIR, fname) for fname in filenames]\n",
    "file_hashes = [compute_md5(path) for path in file_paths]\n",
    "\n",
    "# Compare every pair of files by hash\n",
    "for (i, path1), (j, path2) in itertools.combinations(enumerate(file_paths), 2):\n",
    "    fname1 = os.path.basename(path1)\n",
    "    fname2 = os.path.basename(path2)\n",
    "\n",
    "    if file_hashes[i] == file_hashes[j]:\n",
    "        print(f\"{fname1} and {fname2} are identical (same MD5 hash)\")\n",
    "    else:\n",
    "        print(f\"{fname1} and {fname2} are different (different MD5 hash)\")"
   ],
   "id": "initial_id",
   "outputs": [
    {
     "name": "stdout",
     "output_type": "stream",
     "text": [
      "Financial_Records.csv and Financial_Records_Bob.csv are different (different MD5 hash)\n",
      "Financial_Records.csv and Financial_Records_Bob_Cakmak_Dilara.csv are different (different MD5 hash)\n",
      "Financial_Records.csv and Financial_Records_Bob_Hedda_Fiedler.csv are different (different MD5 hash)\n",
      "Financial_Records.csv and Financial_Records_Bob_Lorenz_Horburger.csv are different (different MD5 hash)\n",
      "Financial_Records.csv and Financial_Records_Bob_Lou_Elah_Susslin.csv are different (different MD5 hash)\n",
      "Financial_Records.csv and Financial_Records_Bob_Matthias_Reicher.csv are different (different MD5 hash)\n",
      "Financial_Records.csv and Financial_Records_Bob_Nemanja_Saveski.csv are different (different MD5 hash)\n",
      "Financial_Records.csv and Financial_Records_Bob_Sabina_Khazari.csv are different (different MD5 hash)\n",
      "Financial_Records.csv and Financial_Records_Bob_Thomas_Senstyler.csv are different (different MD5 hash)\n",
      "Financial_Records_Bob.csv and Financial_Records_Bob_Cakmak_Dilara.csv are different (different MD5 hash)\n",
      "Financial_Records_Bob.csv and Financial_Records_Bob_Hedda_Fiedler.csv are different (different MD5 hash)\n",
      "Financial_Records_Bob.csv and Financial_Records_Bob_Lorenz_Horburger.csv are different (different MD5 hash)\n",
      "Financial_Records_Bob.csv and Financial_Records_Bob_Lou_Elah_Susslin.csv are different (different MD5 hash)\n",
      "Financial_Records_Bob.csv and Financial_Records_Bob_Matthias_Reicher.csv are identical (same MD5 hash)\n",
      "Financial_Records_Bob.csv and Financial_Records_Bob_Nemanja_Saveski.csv are different (different MD5 hash)\n",
      "Financial_Records_Bob.csv and Financial_Records_Bob_Sabina_Khazari.csv are identical (same MD5 hash)\n",
      "Financial_Records_Bob.csv and Financial_Records_Bob_Thomas_Senstyler.csv are different (different MD5 hash)\n",
      "Financial_Records_Bob_Cakmak_Dilara.csv and Financial_Records_Bob_Hedda_Fiedler.csv are different (different MD5 hash)\n",
      "Financial_Records_Bob_Cakmak_Dilara.csv and Financial_Records_Bob_Lorenz_Horburger.csv are different (different MD5 hash)\n",
      "Financial_Records_Bob_Cakmak_Dilara.csv and Financial_Records_Bob_Lou_Elah_Susslin.csv are different (different MD5 hash)\n",
      "Financial_Records_Bob_Cakmak_Dilara.csv and Financial_Records_Bob_Matthias_Reicher.csv are different (different MD5 hash)\n",
      "Financial_Records_Bob_Cakmak_Dilara.csv and Financial_Records_Bob_Nemanja_Saveski.csv are different (different MD5 hash)\n",
      "Financial_Records_Bob_Cakmak_Dilara.csv and Financial_Records_Bob_Sabina_Khazari.csv are different (different MD5 hash)\n",
      "Financial_Records_Bob_Cakmak_Dilara.csv and Financial_Records_Bob_Thomas_Senstyler.csv are different (different MD5 hash)\n",
      "Financial_Records_Bob_Hedda_Fiedler.csv and Financial_Records_Bob_Lorenz_Horburger.csv are different (different MD5 hash)\n",
      "Financial_Records_Bob_Hedda_Fiedler.csv and Financial_Records_Bob_Lou_Elah_Susslin.csv are identical (same MD5 hash)\n",
      "Financial_Records_Bob_Hedda_Fiedler.csv and Financial_Records_Bob_Matthias_Reicher.csv are different (different MD5 hash)\n",
      "Financial_Records_Bob_Hedda_Fiedler.csv and Financial_Records_Bob_Nemanja_Saveski.csv are different (different MD5 hash)\n",
      "Financial_Records_Bob_Hedda_Fiedler.csv and Financial_Records_Bob_Sabina_Khazari.csv are different (different MD5 hash)\n",
      "Financial_Records_Bob_Hedda_Fiedler.csv and Financial_Records_Bob_Thomas_Senstyler.csv are different (different MD5 hash)\n",
      "Financial_Records_Bob_Lorenz_Horburger.csv and Financial_Records_Bob_Lou_Elah_Susslin.csv are different (different MD5 hash)\n",
      "Financial_Records_Bob_Lorenz_Horburger.csv and Financial_Records_Bob_Matthias_Reicher.csv are different (different MD5 hash)\n",
      "Financial_Records_Bob_Lorenz_Horburger.csv and Financial_Records_Bob_Nemanja_Saveski.csv are different (different MD5 hash)\n",
      "Financial_Records_Bob_Lorenz_Horburger.csv and Financial_Records_Bob_Sabina_Khazari.csv are different (different MD5 hash)\n",
      "Financial_Records_Bob_Lorenz_Horburger.csv and Financial_Records_Bob_Thomas_Senstyler.csv are different (different MD5 hash)\n",
      "Financial_Records_Bob_Lou_Elah_Susslin.csv and Financial_Records_Bob_Matthias_Reicher.csv are different (different MD5 hash)\n",
      "Financial_Records_Bob_Lou_Elah_Susslin.csv and Financial_Records_Bob_Nemanja_Saveski.csv are different (different MD5 hash)\n",
      "Financial_Records_Bob_Lou_Elah_Susslin.csv and Financial_Records_Bob_Sabina_Khazari.csv are different (different MD5 hash)\n",
      "Financial_Records_Bob_Lou_Elah_Susslin.csv and Financial_Records_Bob_Thomas_Senstyler.csv are different (different MD5 hash)\n",
      "Financial_Records_Bob_Matthias_Reicher.csv and Financial_Records_Bob_Nemanja_Saveski.csv are different (different MD5 hash)\n",
      "Financial_Records_Bob_Matthias_Reicher.csv and Financial_Records_Bob_Sabina_Khazari.csv are identical (same MD5 hash)\n",
      "Financial_Records_Bob_Matthias_Reicher.csv and Financial_Records_Bob_Thomas_Senstyler.csv are different (different MD5 hash)\n",
      "Financial_Records_Bob_Nemanja_Saveski.csv and Financial_Records_Bob_Sabina_Khazari.csv are different (different MD5 hash)\n",
      "Financial_Records_Bob_Nemanja_Saveski.csv and Financial_Records_Bob_Thomas_Senstyler.csv are different (different MD5 hash)\n",
      "Financial_Records_Bob_Sabina_Khazari.csv and Financial_Records_Bob_Thomas_Senstyler.csv are different (different MD5 hash)\n"
     ]
    }
   ],
   "execution_count": 2
  },
  {
   "metadata": {
    "ExecuteTime": {
     "end_time": "2025-05-03T18:35:13.149406Z",
     "start_time": "2025-05-03T18:35:12.880064Z"
    }
   },
   "cell_type": "code",
   "source": [
    "import os\n",
    "import hashlib\n",
    "\n",
    "DATA_DIR = \"datasets-p2\"\n",
    "\n",
    "def compute_md5(file_path):\n",
    "    hasher = hashlib.md5()\n",
    "    with open(file_path, 'rb') as f:\n",
    "        for chunk in iter(lambda: f.read(4096), b\"\"):\n",
    "            hasher.update(chunk)\n",
    "    return hasher.hexdigest()\n",
    "\n",
    "filenames = [f for f in os.listdir(DATA_DIR) if f.endswith(\".csv\")]\n",
    "filenames.sort()\n",
    "\n",
    "for fname in filenames:\n",
    "    full_path = os.path.join(DATA_DIR, fname)\n",
    "    file_hash = compute_md5(full_path)\n",
    "    print(f\"{fname}: {file_hash}\")"
   ],
   "id": "f64a388040f0082d",
   "outputs": [
    {
     "name": "stdout",
     "output_type": "stream",
     "text": [
      "Financial_Records.csv: d5510cb33024849a54353a1ce0ab5a88\n",
      "Financial_Records_Bob.csv: 9d4109d08bc17cbe8165d39ca1853574\n",
      "Financial_Records_Bob_Cakmak_Dilara.csv: 196cf2d362a868da0ce74e69b64dffa2\n",
      "Financial_Records_Bob_Hedda_Fiedler.csv: 95a0f1ca1832fe4c2e14305910dd0521\n",
      "Financial_Records_Bob_Lorenz_Horburger.csv: 03d4dcc5680240505b15667ef9d96235\n",
      "Financial_Records_Bob_Lou_Elah_Susslin.csv: 95a0f1ca1832fe4c2e14305910dd0521\n",
      "Financial_Records_Bob_Matthias_Reicher.csv: 9d4109d08bc17cbe8165d39ca1853574\n",
      "Financial_Records_Bob_Nemanja_Saveski.csv: 8b0c6a35558e971725263a200131d239\n",
      "Financial_Records_Bob_Sabina_Khazari.csv: 9d4109d08bc17cbe8165d39ca1853574\n",
      "Financial_Records_Bob_Thomas_Senstyler.csv: 005110bad29ebf62a8839d69191faa3d\n"
     ]
    }
   ],
   "execution_count": 3
  },
  {
   "metadata": {},
   "cell_type": "code",
   "outputs": [],
   "execution_count": null,
   "source": "",
   "id": "a2ee6ea089adad32"
  }
 ],
 "metadata": {
  "kernelspec": {
   "display_name": "Python 3",
   "language": "python",
   "name": "python3"
  },
  "language_info": {
   "codemirror_mode": {
    "name": "ipython",
    "version": 2
   },
   "file_extension": ".py",
   "mimetype": "text/x-python",
   "name": "python",
   "nbconvert_exporter": "python",
   "pygments_lexer": "ipython2",
   "version": "2.7.6"
  }
 },
 "nbformat": 4,
 "nbformat_minor": 5
}
