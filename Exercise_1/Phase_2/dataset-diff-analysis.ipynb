{
 "cells": [
  {
   "cell_type": "code",
   "id": "initial_id",
   "metadata": {
    "collapsed": true,
    "ExecuteTime": {
     "end_time": "2025-04-22T15:42:51.762695Z",
     "start_time": "2025-04-22T15:42:21.481219Z"
    }
   },
   "source": [
    "import os\n",
    "import re\n",
    "import pandas as pd\n",
    "import numpy as np\n",
    "import matplotlib.pyplot as plt\n",
    "import seaborn as sns\n",
    "from collections import Counter\n",
    "\n",
    "DATA_DIR = \"datasets-p2\"\n",
    "pattern = re.compile(r\"Financial_Records.*\\.csv\")\n",
    "filenames = [os.path.join(DATA_DIR, f) for f in os.listdir(DATA_DIR) if pattern.match(f)]\n",
    "filenames.sort()  # optional for consistent ordering\n",
    "\n",
    "print(f\"Found {len(filenames)} matching datasets:\")\n",
    "for f in filenames:\n",
    "    print(f\" - {f}\")\n",
    "\n",
    "datasets = [pd.read_csv(fname) for fname in filenames]\n",
    "dataset_names = [os.path.basename(fname) for fname in filenames]\n",
    "num_datasets = len(datasets)\n",
    "\n",
    "ref_df = datasets[0]\n",
    "rows, cols = ref_df.shape\n",
    "columns = ref_df.columns\n",
    "\n",
    "diff_map = pd.DataFrame(0, index=range(rows), columns=columns)\n",
    "uniqueness_counts = [0 for _ in range(num_datasets)]\n",
    "\n",
    "for row in range(rows):\n",
    "    for col in columns:\n",
    "        values = [df.at[row, col] for df in datasets]\n",
    "\n",
    "        try:\n",
    "            values = [float(v) for v in values]\n",
    "            is_numeric = True\n",
    "        except:\n",
    "            is_numeric = False\n",
    "\n",
    "        if is_numeric:\n",
    "            rounded_values = [round(v, 4) for v in values]\n",
    "            counter = Counter(rounded_values)\n",
    "        else:\n",
    "            counter = Counter(values)\n",
    "\n",
    "        if len(counter) > 1:\n",
    "            diff_map.at[row, col] = 1\n",
    "            # Count uniqueness\n",
    "            for i, val in enumerate(values):\n",
    "                if counter[val] == 1:\n",
    "                    uniqueness_counts[i] += 1\n",
    "\n",
    "plt.figure(figsize=(12, 6))\n",
    "sns.heatmap(diff_map.astype(int), cmap=\"YlOrRd\", cbar_kws={'label': 'Modified (1 = change)'})\n",
    "plt.title(\"Difference Heatmap Across Fingerprinted Datasets\")\n",
    "plt.xlabel(\"Columns\")\n",
    "plt.ylabel(\"Rows\")\n",
    "plt.tight_layout()\n",
    "plt.savefig(\"diff_heatmap.png\")\n",
    "plt.close()\n",
    "print(\"Saved diff heatmap to 'diff_heatmap.png'\")\n",
    "\n",
    "total_cells = rows * len(columns)\n",
    "modified_cells = diff_map.values.sum()\n",
    "percent_modified = round((modified_cells / total_cells) * 100, 4)\n",
    "\n",
    "summary_df = pd.DataFrame({\n",
    "    \"Metric\": [\"Total Cells\", \"Modified Cells\", \"Percent Modified\"],\n",
    "    \"Value\": [total_cells, modified_cells, percent_modified]\n",
    "})\n",
    "summary_df.to_csv(\"diff_summary.csv\", index=False)\n",
    "print(\"Saved diff summary to 'diff_summary.csv'\")\n",
    "\n",
    "unique_df = pd.DataFrame({\n",
    "    \"Dataset\": dataset_names,\n",
    "    \"Unique Cell Contributions\": uniqueness_counts\n",
    "}).sort_values(by=\"Unique Cell Contributions\", ascending=False)\n",
    "\n",
    "unique_df.to_csv(\"unique_contributions.csv\", index=False)\n",
    "print(\"Saved dataset uniqueness ranking to 'unique_contributions.csv'\")\n"
   ],
   "outputs": [
    {
     "name": "stdout",
     "output_type": "stream",
     "text": [
      "Found 5 matching datasets:\n",
      " - datasets-p2\\Financial_Records.csv\n",
      " - datasets-p2\\Financial_Records_Bob.csv\n",
      " - datasets-p2\\Financial_Records_Bob_Nemanja_Saveski.csv\n",
      " - datasets-p2\\Financial_Records_Bob_Sabina_Khazari.csv\n",
      " - datasets-p2\\Financial_Records_Bob_Thomas_Senstyler.csv\n",
      "Saved diff heatmap to 'diff_heatmap.png'\n",
      "📈 Saved diff summary to 'diff_summary.csv'\n",
      "Saved dataset uniqueness ranking to 'unique_contributions.csv'\n"
     ]
    }
   ],
   "execution_count": 2
  }
 ],
 "metadata": {
  "kernelspec": {
   "display_name": "Python 3",
   "language": "python",
   "name": "python3"
  },
  "language_info": {
   "codemirror_mode": {
    "name": "ipython",
    "version": 2
   },
   "file_extension": ".py",
   "mimetype": "text/x-python",
   "name": "python",
   "nbconvert_exporter": "python",
   "pygments_lexer": "ipython2",
   "version": "2.7.6"
  }
 },
 "nbformat": 4,
 "nbformat_minor": 5
}
