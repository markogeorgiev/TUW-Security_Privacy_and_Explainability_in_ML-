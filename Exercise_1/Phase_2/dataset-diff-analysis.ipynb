{
 "cells": [
  {
   "metadata": {
    "ExecuteTime": {
     "end_time": "2025-05-03T18:48:17.293541Z",
     "start_time": "2025-05-03T18:47:03.772899Z"
    }
   },
   "cell_type": "code",
   "source": [
    "import os\n",
    "import re\n",
    "import pandas as pd\n",
    "import numpy as np\n",
    "import matplotlib.pyplot as plt\n",
    "from collections import Counter\n",
    "from dataset_uniqueness_utils import *\n",
    "\n",
    "DATA_DIR = \"datasets-p2\"\n",
    "OUT_DIR = \"dataset-diff-analysis\"\n",
    "os.makedirs(OUT_DIR, exist_ok=True)\n",
    "\n",
    "unique_datasets, unique_names, num_unique = get_unique_datasets(DATA_DIR) \n",
    "\n",
    "ref_df = unique_datasets[0]\n",
    "rows, cols = ref_df.shape\n",
    "columns = ref_df.columns\n",
    "\n",
    "diff_map = pd.DataFrame(0, index=range(rows), columns=columns)\n",
    "uniqueness_counts = [0 for _ in range(num_unique)]\n",
    "\n",
    "for row in range(rows):\n",
    "    for col in columns:\n",
    "        values = [df.at[row, col] for df in unique_datasets]\n",
    "        try:\n",
    "            values = [float(v) for v in values]\n",
    "            is_numeric = True\n",
    "        except:\n",
    "            is_numeric = False\n",
    "        if is_numeric:\n",
    "            rounded_values = [round(v, 4) for v in values]\n",
    "            counter = Counter(rounded_values)\n",
    "        else:\n",
    "            counter = Counter(values)\n",
    "\n",
    "        num_unique_values = len(counter)\n",
    "        diff_map.at[row, col] = num_unique_values\n",
    "        if num_unique_values > 1:\n",
    "            for i, val in enumerate(values):\n",
    "                if counter[val] == 1:\n",
    "                    uniqueness_counts[i] += 1\n",
    "\n",
    "\n",
    "total_cells = rows * len(columns)\n",
    "modified_cells = (diff_map > 1).values.sum()\n",
    "percent_modified = round((modified_cells / total_cells) * 100, 4)\n",
    "\n",
    "summary_df = pd.DataFrame({\n",
    "    \"Metric\": [\"Total Cells\", \"Modified Cells\", \"Percent Modified\"],\n",
    "    \"Value\": [total_cells, modified_cells, percent_modified]\n",
    "})\n",
    "\n",
    "unique_df = pd.DataFrame({\n",
    "    \"Dataset\": unique_names,\n",
    "    \"Unique Cell Contributions\": uniqueness_counts\n",
    "}).sort_values(by=\"Unique Cell Contributions\", ascending=False)\n",
    "\n",
    "existing_versions = [\n",
    "    int(d.split(\"_v\")[-1]) for d in os.listdir(OUT_DIR)\n",
    "    if d.startswith(f\"{num_unique}_v\") and os.path.isdir(os.path.join(OUT_DIR, d))\n",
    "]\n",
    "\n",
    "next_version = max(existing_versions) + 1 if existing_versions else 1\n",
    "save_dir = os.path.join(OUT_DIR, f\"{num_unique}_v{next_version}\")\n",
    "os.makedirs(save_dir, exist_ok=True)\n",
    "\n",
    "summary_df.to_csv(os.path.join(save_dir, \"summary.csv\"), index=False)\n",
    "diff_map.to_csv(os.path.join(save_dir, \"diff_map.csv\"), index=False)\n",
    "unique_df.to_csv(os.path.join(save_dir, \"uniqueness.csv\"), index=False)"
   ],
   "id": "341294a37c53248d",
   "outputs": [],
   "execution_count": 1
  },
  {
   "metadata": {},
   "cell_type": "code",
   "outputs": [],
   "execution_count": null,
   "source": "",
   "id": "6c2c88bf5901b241"
  }
 ],
 "metadata": {
  "kernelspec": {
   "display_name": "Python 3",
   "language": "python",
   "name": "python3"
  },
  "language_info": {
   "codemirror_mode": {
    "name": "ipython",
    "version": 2
   },
   "file_extension": ".py",
   "mimetype": "text/x-python",
   "name": "python",
   "nbconvert_exporter": "python",
   "pygments_lexer": "ipython2",
   "version": "2.7.6"
  }
 },
 "nbformat": 4,
 "nbformat_minor": 5
}
